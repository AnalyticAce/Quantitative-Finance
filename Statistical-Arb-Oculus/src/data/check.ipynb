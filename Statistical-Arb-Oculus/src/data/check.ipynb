{
 "cells": [
  {
   "cell_type": "code",
   "execution_count": null,
   "metadata": {},
   "outputs": [],
   "source": [
    "import ccxt\n",
    "import pandas as pd\n",
    "\n",
    "def fetch_crypto_data(symbol, timeframe, limit):\n",
    "    binance = ccxt.binance()\n",
    "\n",
    "    try:\n",
    "        bars = binance.fetch_ohlcv(symbol, timeframe=timeframe, limit=limit)\n",
    "\n",
    "        if bars is not None:\n",
    "            df = pd.DataFrame(bars, columns=[\"timestamp\", \"open\", \"high\", \"low\", \"close\", \"volume\"])\n",
    "            df[\"timestamp\"] = pd.to_datetime(df[\"timestamp\"], unit=\"ms\")\n",
    "            return df\n",
    "        else:\n",
    "            print(\"Failed to fetch data from the Binance API.\")\n",
    "    except ccxt.NetworkError as e:\n",
    "        print(f\"NetworkError: {e}\")\n",
    "    except ccxt.ExchangeError as e:\n",
    "        print(f\"ExchangeError: {e}\")\n",
    "    except Exception as e:\n",
    "        print(f\"Error: {e}\")\n",
    "\n",
    "    return None\n",
    "\n",
    "symbol = \"BTC/USDT\"\n",
    "timeframe = \"1h\"\n",
    "limit = 100\n",
    "crypto_data = fetch_crypto_data(symbol, timeframe, limit)\n",
    "\n",
    "if crypto_data is not None:\n",
    "    closing_prices_asset_1 = crypto_data[\"close\"]\n",
    "    print(closing_prices_asset_1.head())\n",
    "else:\n",
    "    print(\"Data retrieval failed. Check your API credentials and network connection.\")\n"
   ]
  },
  {
   "cell_type": "code",
   "execution_count": null,
   "metadata": {},
   "outputs": [],
   "source": [
    "30442.0 -"
   ]
  }
 ],
 "metadata": {
  "language_info": {
   "name": "python"
  },
  "orig_nbformat": 4
 },
 "nbformat": 4,
 "nbformat_minor": 2
}
