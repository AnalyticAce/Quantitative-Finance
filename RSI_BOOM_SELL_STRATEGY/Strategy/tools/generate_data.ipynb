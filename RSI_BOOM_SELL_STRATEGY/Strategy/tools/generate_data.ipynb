{
 "cells": [
  {
   "cell_type": "code",
   "execution_count": 3,
   "metadata": {},
   "outputs": [],
   "source": [
    "import MetaTrader5 as mt5\n",
    "import pandas as pd\n",
    "import ta.momentum as momentum\n",
    "from datetime import datetime, timedelta\n",
    "import seaborn as sns\n",
    "import matplotlib.pyplot as plt\n",
    "import time \n",
    "\n",
    "def get_historical_data(symbol, timeframe, number_of_data = 1000):\n",
    "    # Initialize the MetaTrader 5 terminal\n",
    "    if not mt5.initialize():\n",
    "        print(\"initialize() failed\")\n",
    "        mt5.shutdown()\n",
    "        return None\n",
    "\n",
    "    # Retrieve historical data from MetaTrader 5\n",
    "    rates = mt5.copy_rates_from_pos(symbol, timeframe, 0, number_of_data)\n",
    "\n",
    "    # Check if data is retrieved successfully\n",
    "    if rates is None:\n",
    "        print(\"Failed to retrieve historical data.\")\n",
    "        mt5.shutdown()\n",
    "        return None\n",
    "\n",
    "    # Transform tuples into a DataFrame\n",
    "    df = pd.DataFrame(rates)\n",
    "    df[\"time\"] = pd.to_datetime(df[\"time\"], unit= \"s\")\n",
    "    df = df.set_index(\"time\")\n",
    "\n",
    "    # Shutdown the MetaTrader 5 terminal\n",
    "    mt5.shutdown()\n",
    "\n",
    "    return df\n",
    "\n",
    "data = get_historical_data(\"Volatility 75 Index\", mt5.TIMEFRAME_M15, number_of_data = 10000)\n",
    "\n",
    "data.to_csv(\"v75.csv\")"
   ]
  }
 ],
 "metadata": {
  "kernelspec": {
   "display_name": "Python 3",
   "language": "python",
   "name": "python3"
  },
  "language_info": {
   "codemirror_mode": {
    "name": "ipython",
    "version": 3
   },
   "file_extension": ".py",
   "mimetype": "text/x-python",
   "name": "python",
   "nbconvert_exporter": "python",
   "pygments_lexer": "ipython3",
   "version": "3.11.4"
  },
  "orig_nbformat": 4
 },
 "nbformat": 4,
 "nbformat_minor": 2
}
